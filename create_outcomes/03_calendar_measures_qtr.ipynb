{
 "cells": [
  {
   "cell_type": "markdown",
   "id": "c648e37e",
   "metadata": {},
   "source": [
    "# Summarizing a Person-Quarter Level File to a Person-Level File: Quarterly Calendar Measures"
   ]
  },
  {
   "cell_type": "code",
   "execution_count": 1,
   "id": "063a889c",
   "metadata": {},
   "outputs": [],
   "source": [
    "# this code loads needed packages and connect to database.\n",
    "# load sqlalchemy package\n",
    "import sqlalchemy\n",
    "\n",
    "# Define connection string (Projects is the corpmdrc DSN)\n",
    "connection_string = \"mssql+pyodbc://@TDI\"\n",
    "\n",
    "# Create the engine connecting to the database server\n",
    "sqlalchemy.create_engine(connection_string)\n",
    "\n",
    "# Load sql magicks \n",
    "%load_ext sql\n",
    "\n",
    "# Connect to the database server\n",
    "%sql $connection_string"
   ]
  },
  {
   "cell_type": "markdown",
   "id": "4fa2ca03",
   "metadata": {},
   "source": [
    "\n",
    "## Purpose: \n",
    "\n",
    "The purpose of this code is to demonstrate how to convert a person-quarterly transaction-level file to a person-level file, and add a series of quarterly employment and earnings outcomes.\n",
    "\n",
    "In the previous notebook (02_restructure_person_quarter), we created a quarterly file with one record per person per quarter (UIQuarterlyMeasuresV). Here, we will summarize the file to 1 record per person (by distinct SSN) with all the information about each person’s history of employment and earnings on 1 record."
   ]
  },
  {
   "cell_type": "markdown",
   "id": "7234ba85",
   "metadata": {},
   "source": [
    "\n",
    "#### Starting Point \n",
    "\n",
    "In the previous notebook (02_restructure_person_quarter), we created a quarterly file with one record per person per quarter (UIQuarterlyMeasuresV). Here, we will pivot or transpose the file to 1 record per person (by distinct SSN) with all the information about each person’s history of employment and earnings on 1 record.\n",
    "\n",
    "Our source file for the pivot has a record for every possible quarter a person could\n",
    "be employed. Each record has information about the earning reported, a yes/no [0/1] indicator of employment,\n",
    "and the number of employers who reported earnings for the person during the quarter. The code presented here is limited to the 4 calendar quarters in 2017 but can be expanded and adapted for any time frame. \n",
    "\n",
    "Let's take a look at the transaction file that we will use as input."
   ]
  },
  {
   "cell_type": "code",
   "execution_count": 2,
   "id": "c5e9d209",
   "metadata": {},
   "outputs": [
    {
     "name": "stdout",
     "output_type": "stream",
     "text": [
      " * mssql+pyodbc://@TDI\n",
      "Done.\n"
     ]
    },
    {
     "data": {
      "text/html": [
       "<table>\n",
       "    <tr>\n",
       "        <th>SSN</th>\n",
       "        <th>ProgStart</th>\n",
       "        <th>ProgEnd</th>\n",
       "        <th>YR_QTR</th>\n",
       "        <th>EarnQTR</th>\n",
       "        <th>RelativeQTR</th>\n",
       "        <th>QTR_Earnings</th>\n",
       "        <th>QTR_EMPLOYED</th>\n",
       "        <th>QTR_NUMEMPLOYERS</th>\n",
       "    </tr>\n",
       "    <tr>\n",
       "        <td>100000000</td>\n",
       "        <td>2017-06-01</td>\n",
       "        <td>2017-11-28</td>\n",
       "        <td>2017Q1</td>\n",
       "        <td>2017-01-01</td>\n",
       "        <td>-1</td>\n",
       "        <td>9214</td>\n",
       "        <td>1</td>\n",
       "        <td>1</td>\n",
       "    </tr>\n",
       "    <tr>\n",
       "        <td>100000000</td>\n",
       "        <td>2017-06-01</td>\n",
       "        <td>2017-11-28</td>\n",
       "        <td>2017Q2</td>\n",
       "        <td>2017-04-01</td>\n",
       "        <td>0</td>\n",
       "        <td>8561</td>\n",
       "        <td>1</td>\n",
       "        <td>1</td>\n",
       "    </tr>\n",
       "    <tr>\n",
       "        <td>100000000</td>\n",
       "        <td>2017-06-01</td>\n",
       "        <td>2017-11-28</td>\n",
       "        <td>2017Q3</td>\n",
       "        <td>2017-07-01</td>\n",
       "        <td>1</td>\n",
       "        <td>12550</td>\n",
       "        <td>1</td>\n",
       "        <td>1</td>\n",
       "    </tr>\n",
       "    <tr>\n",
       "        <td>100000000</td>\n",
       "        <td>2017-06-01</td>\n",
       "        <td>2017-11-28</td>\n",
       "        <td>2017Q4</td>\n",
       "        <td>2017-10-01</td>\n",
       "        <td>2</td>\n",
       "        <td>0</td>\n",
       "        <td>0</td>\n",
       "        <td>0</td>\n",
       "    </tr>\n",
       "    <tr>\n",
       "        <td>100900056</td>\n",
       "        <td>2017-01-01</td>\n",
       "        <td>2017-06-30</td>\n",
       "        <td>2017Q1</td>\n",
       "        <td>2017-01-01</td>\n",
       "        <td>0</td>\n",
       "        <td>5624</td>\n",
       "        <td>1</td>\n",
       "        <td>1</td>\n",
       "    </tr>\n",
       "    <tr>\n",
       "        <td>100900056</td>\n",
       "        <td>2017-01-01</td>\n",
       "        <td>2017-06-30</td>\n",
       "        <td>2017Q2</td>\n",
       "        <td>2017-04-01</td>\n",
       "        <td>1</td>\n",
       "        <td>4371</td>\n",
       "        <td>1</td>\n",
       "        <td>1</td>\n",
       "    </tr>\n",
       "    <tr>\n",
       "        <td>100900056</td>\n",
       "        <td>2017-01-01</td>\n",
       "        <td>2017-06-30</td>\n",
       "        <td>2017Q3</td>\n",
       "        <td>2017-07-01</td>\n",
       "        <td>2</td>\n",
       "        <td>10992</td>\n",
       "        <td>1</td>\n",
       "        <td>1</td>\n",
       "    </tr>\n",
       "    <tr>\n",
       "        <td>100900056</td>\n",
       "        <td>2017-01-01</td>\n",
       "        <td>2017-06-30</td>\n",
       "        <td>2017Q4</td>\n",
       "        <td>2017-10-01</td>\n",
       "        <td>3</td>\n",
       "        <td>0</td>\n",
       "        <td>0</td>\n",
       "        <td>0</td>\n",
       "    </tr>\n",
       "    <tr>\n",
       "        <td>101800112</td>\n",
       "        <td>2017-08-01</td>\n",
       "        <td>2018-01-28</td>\n",
       "        <td>2017Q1</td>\n",
       "        <td>2017-01-01</td>\n",
       "        <td>-2</td>\n",
       "        <td>0</td>\n",
       "        <td>0</td>\n",
       "        <td>0</td>\n",
       "    </tr>\n",
       "    <tr>\n",
       "        <td>101800112</td>\n",
       "        <td>2017-08-01</td>\n",
       "        <td>2018-01-28</td>\n",
       "        <td>2017Q2</td>\n",
       "        <td>2017-04-01</td>\n",
       "        <td>-1</td>\n",
       "        <td>0</td>\n",
       "        <td>0</td>\n",
       "        <td>0</td>\n",
       "    </tr>\n",
       "    <tr>\n",
       "        <td>101800112</td>\n",
       "        <td>2017-08-01</td>\n",
       "        <td>2018-01-28</td>\n",
       "        <td>2017Q3</td>\n",
       "        <td>2017-07-01</td>\n",
       "        <td>0</td>\n",
       "        <td>0</td>\n",
       "        <td>0</td>\n",
       "        <td>0</td>\n",
       "    </tr>\n",
       "    <tr>\n",
       "        <td>101800112</td>\n",
       "        <td>2017-08-01</td>\n",
       "        <td>2018-01-28</td>\n",
       "        <td>2017Q4</td>\n",
       "        <td>2017-10-01</td>\n",
       "        <td>1</td>\n",
       "        <td>0</td>\n",
       "        <td>0</td>\n",
       "        <td>0</td>\n",
       "    </tr>\n",
       "</table>"
      ],
      "text/plain": [
       "[('100000000', datetime.date(2017, 6, 1), datetime.date(2017, 11, 28), '2017Q1', datetime.date(2017, 1, 1), -1, 9214, 1, 1),\n",
       " ('100000000', datetime.date(2017, 6, 1), datetime.date(2017, 11, 28), '2017Q2', datetime.date(2017, 4, 1), 0, 8561, 1, 1),\n",
       " ('100000000', datetime.date(2017, 6, 1), datetime.date(2017, 11, 28), '2017Q3', datetime.date(2017, 7, 1), 1, 12550, 1, 1),\n",
       " ('100000000', datetime.date(2017, 6, 1), datetime.date(2017, 11, 28), '2017Q4', datetime.date(2017, 10, 1), 2, 0, 0, 0),\n",
       " ('100900056', datetime.date(2017, 1, 1), datetime.date(2017, 6, 30), '2017Q1', datetime.date(2017, 1, 1), 0, 5624, 1, 1),\n",
       " ('100900056', datetime.date(2017, 1, 1), datetime.date(2017, 6, 30), '2017Q2', datetime.date(2017, 4, 1), 1, 4371, 1, 1),\n",
       " ('100900056', datetime.date(2017, 1, 1), datetime.date(2017, 6, 30), '2017Q3', datetime.date(2017, 7, 1), 2, 10992, 1, 1),\n",
       " ('100900056', datetime.date(2017, 1, 1), datetime.date(2017, 6, 30), '2017Q4', datetime.date(2017, 10, 1), 3, 0, 0, 0),\n",
       " ('101800112', datetime.date(2017, 8, 1), datetime.date(2018, 1, 28), '2017Q1', datetime.date(2017, 1, 1), -2, 0, 0, 0),\n",
       " ('101800112', datetime.date(2017, 8, 1), datetime.date(2018, 1, 28), '2017Q2', datetime.date(2017, 4, 1), -1, 0, 0, 0),\n",
       " ('101800112', datetime.date(2017, 8, 1), datetime.date(2018, 1, 28), '2017Q3', datetime.date(2017, 7, 1), 0, 0, 0, 0),\n",
       " ('101800112', datetime.date(2017, 8, 1), datetime.date(2018, 1, 28), '2017Q4', datetime.date(2017, 10, 1), 1, 0, 0, 0)]"
      ]
     },
     "execution_count": 2,
     "metadata": {},
     "output_type": "execute_result"
    }
   ],
   "source": [
    "%%sql\n",
    "SELECT TOP 12 *\n",
    "FROM UIQuarterlyMeasuresV\n",
    "where LEFT(YR_QTR,4) ='2017' -- selecting just 2017 quarters \n",
    "order by SSN, YR_QTR;"
   ]
  },
  {
   "cell_type": "markdown",
   "id": "ff0a69a7",
   "metadata": {},
   "source": [
    "### FLATTEN FILE WITH GROUP BY and CASE: Quarterly Calendar Measures\n",
    "\n",
    "1. We will reduce multiple records for an SSN to 1 record for the SSN by using the GROUP BY statement, which indicates the level at which you want your created outcomes to be summarized.\n",
    "\n",
    "2. The CASE statement is a conditional statement. In our case, we use CASE to specify what values of YR_QTR to process and what values of YR_QTR to skip and adds the earnings for each relevant quarter into a new summary column. "
   ]
  },
  {
   "cell_type": "code",
   "execution_count": 4,
   "id": "aea7ef5d",
   "metadata": {},
   "outputs": [
    {
     "name": "stdout",
     "output_type": "stream",
     "text": [
      " * mssql+pyodbc://@TDI\n",
      "Done.\n"
     ]
    },
    {
     "data": {
      "text/plain": [
       "[]"
      ]
     },
     "execution_count": 4,
     "metadata": {},
     "output_type": "execute_result"
    }
   ],
   "source": [
    "%%sql\n",
    "-- this code ALLOWS THIS PROGRAM to be rerun if there is a problem with the view and it needs to be removed and recreated\n",
    "DROP VIEW IF EXISTS dbo.FlatUIv;"
   ]
  },
  {
   "cell_type": "code",
   "execution_count": 5,
   "id": "011198c6",
   "metadata": {},
   "outputs": [
    {
     "name": "stdout",
     "output_type": "stream",
     "text": [
      " * mssql+pyodbc://@TDI\n",
      "Done.\n"
     ]
    },
    {
     "data": {
      "text/plain": [
       "[]"
      ]
     },
     "execution_count": 5,
     "metadata": {},
     "output_type": "execute_result"
    }
   ],
   "source": [
    "%%sql\n",
    "CREATE VIEW FlatUIv as\n",
    "SELECT\n",
    "SSN,\n",
    "/* 1. in SQL it is impossible to flatten a file without group by statement*/\n",
    "/* 2. in SQL it is impossible to use a group by statement without also using a summary function (e.g. sum below) */\n",
    "\n",
    "/* calendar quarter earnings measures*/\n",
    "SUM(CASE YR_QTR WHEN '2017Q1' THEN QTR_Earnings END) AS EARN2017Q1, -- WHEN statement is true value is moved to 1st col\n",
    "SUM(CASE YR_QTR WHEN '2017Q2' THEN QTR_Earnings END) AS EARN2017Q2, -- WHEN statement is true value is moved to 2nd col\n",
    "SUM(CASE YR_QTR WHEN '2017Q3' THEN QTR_Earnings END) AS EARN2017Q3,\n",
    "SUM(CASE YR_QTR WHEN '2017Q4' THEN QTR_Earnings END) AS EARN2017Q4,\n",
    "\n",
    "/* calendar quarter employment measures*/\n",
    "SUM(CASE YR_QTR WHEN '2017Q1' THEN QTR_Employed END) AS EMP2017Q1,\n",
    "SUM(CASE YR_QTR WHEN '2017Q2' THEN QTR_Employed END) AS EMP2017Q2,\n",
    "SUM(CASE YR_QTR WHEN '2017Q3' THEN QTR_Employed END) AS EMP2017Q3,\n",
    "SUM(CASE YR_QTR WHEN '2017Q4' THEN QTR_Employed END) AS EMP2017Q4\n",
    "\n",
    "\n",
    "FROM UIQuarterlyMeasuresV /* using quarter table view */\n",
    "GROUP BY SSN /* this summarizes selected measures by person */\n",
    ";"
   ]
  },
  {
   "cell_type": "markdown",
   "id": "7d24a079",
   "metadata": {},
   "source": [
    "#### Print a few cases from view"
   ]
  },
  {
   "cell_type": "code",
   "execution_count": 6,
   "id": "2b245256",
   "metadata": {},
   "outputs": [
    {
     "name": "stdout",
     "output_type": "stream",
     "text": [
      " * mssql+pyodbc://@TDI\n",
      "Done.\n"
     ]
    },
    {
     "data": {
      "text/html": [
       "<table>\n",
       "    <tr>\n",
       "        <th>SSN</th>\n",
       "        <th>EARN2017Q1</th>\n",
       "        <th>EARN2017Q2</th>\n",
       "        <th>EARN2017Q3</th>\n",
       "        <th>EARN2017Q4</th>\n",
       "        <th>EMP2017Q1</th>\n",
       "        <th>EMP2017Q2</th>\n",
       "        <th>EMP2017Q3</th>\n",
       "        <th>EMP2017Q4</th>\n",
       "    </tr>\n",
       "    <tr>\n",
       "        <td>100000000</td>\n",
       "        <td>9214</td>\n",
       "        <td>8561</td>\n",
       "        <td>12550</td>\n",
       "        <td>0</td>\n",
       "        <td>1</td>\n",
       "        <td>1</td>\n",
       "        <td>1</td>\n",
       "        <td>0</td>\n",
       "    </tr>\n",
       "    <tr>\n",
       "        <td>100900056</td>\n",
       "        <td>5624</td>\n",
       "        <td>4371</td>\n",
       "        <td>10992</td>\n",
       "        <td>0</td>\n",
       "        <td>1</td>\n",
       "        <td>1</td>\n",
       "        <td>1</td>\n",
       "        <td>0</td>\n",
       "    </tr>\n",
       "    <tr>\n",
       "        <td>101800112</td>\n",
       "        <td>0</td>\n",
       "        <td>0</td>\n",
       "        <td>0</td>\n",
       "        <td>0</td>\n",
       "        <td>0</td>\n",
       "        <td>0</td>\n",
       "        <td>0</td>\n",
       "        <td>0</td>\n",
       "    </tr>\n",
       "    <tr>\n",
       "        <td>102700168</td>\n",
       "        <td>0</td>\n",
       "        <td>0</td>\n",
       "        <td>0</td>\n",
       "        <td>1324</td>\n",
       "        <td>0</td>\n",
       "        <td>0</td>\n",
       "        <td>0</td>\n",
       "        <td>1</td>\n",
       "    </tr>\n",
       "    <tr>\n",
       "        <td>103600224</td>\n",
       "        <td>0</td>\n",
       "        <td>7301</td>\n",
       "        <td>6670</td>\n",
       "        <td>8050</td>\n",
       "        <td>0</td>\n",
       "        <td>1</td>\n",
       "        <td>1</td>\n",
       "        <td>1</td>\n",
       "    </tr>\n",
       "    <tr>\n",
       "        <td>104500280</td>\n",
       "        <td>0</td>\n",
       "        <td>6673</td>\n",
       "        <td>0</td>\n",
       "        <td>9720</td>\n",
       "        <td>0</td>\n",
       "        <td>1</td>\n",
       "        <td>0</td>\n",
       "        <td>1</td>\n",
       "    </tr>\n",
       "    <tr>\n",
       "        <td>105400336</td>\n",
       "        <td>5122</td>\n",
       "        <td>0</td>\n",
       "        <td>8254</td>\n",
       "        <td>0</td>\n",
       "        <td>1</td>\n",
       "        <td>0</td>\n",
       "        <td>1</td>\n",
       "        <td>0</td>\n",
       "    </tr>\n",
       "    <tr>\n",
       "        <td>106300392</td>\n",
       "        <td>0</td>\n",
       "        <td>0</td>\n",
       "        <td>4794</td>\n",
       "        <td>13253</td>\n",
       "        <td>0</td>\n",
       "        <td>0</td>\n",
       "        <td>1</td>\n",
       "        <td>1</td>\n",
       "    </tr>\n",
       "    <tr>\n",
       "        <td>107200448</td>\n",
       "        <td>25243</td>\n",
       "        <td>0</td>\n",
       "        <td>8574</td>\n",
       "        <td>0</td>\n",
       "        <td>1</td>\n",
       "        <td>0</td>\n",
       "        <td>1</td>\n",
       "        <td>0</td>\n",
       "    </tr>\n",
       "    <tr>\n",
       "        <td>108100504</td>\n",
       "        <td>944</td>\n",
       "        <td>8552</td>\n",
       "        <td>18603</td>\n",
       "        <td>6484</td>\n",
       "        <td>1</td>\n",
       "        <td>1</td>\n",
       "        <td>1</td>\n",
       "        <td>1</td>\n",
       "    </tr>\n",
       "</table>"
      ],
      "text/plain": [
       "[('100000000', 9214, 8561, 12550, 0, 1, 1, 1, 0),\n",
       " ('100900056', 5624, 4371, 10992, 0, 1, 1, 1, 0),\n",
       " ('101800112', 0, 0, 0, 0, 0, 0, 0, 0),\n",
       " ('102700168', 0, 0, 0, 1324, 0, 0, 0, 1),\n",
       " ('103600224', 0, 7301, 6670, 8050, 0, 1, 1, 1),\n",
       " ('104500280', 0, 6673, 0, 9720, 0, 1, 0, 1),\n",
       " ('105400336', 5122, 0, 8254, 0, 1, 0, 1, 0),\n",
       " ('106300392', 0, 0, 4794, 13253, 0, 0, 1, 1),\n",
       " ('107200448', 25243, 0, 8574, 0, 1, 0, 1, 0),\n",
       " ('108100504', 944, 8552, 18603, 6484, 1, 1, 1, 1)]"
      ]
     },
     "execution_count": 6,
     "metadata": {},
     "output_type": "execute_result"
    }
   ],
   "source": [
    "%%sql\n",
    "SELECT TOP 10 * FROM FlatUIv\n",
    "ORDER BY SSN;"
   ]
  },
  {
   "cell_type": "markdown",
   "id": "be4f3a29",
   "metadata": {},
   "source": [
    "#### Check to make sure there are not duplicate SSNs"
   ]
  },
  {
   "cell_type": "code",
   "execution_count": 7,
   "id": "98d4916b",
   "metadata": {},
   "outputs": [
    {
     "name": "stdout",
     "output_type": "stream",
     "text": [
      " * mssql+pyodbc://@TDI\n",
      "Done.\n"
     ]
    },
    {
     "data": {
      "text/html": [
       "<table>\n",
       "    <tr>\n",
       "        <th>NumRecs</th>\n",
       "        <th>NumSSNs</th>\n",
       "    </tr>\n",
       "    <tr>\n",
       "        <td>1012</td>\n",
       "        <td>1012</td>\n",
       "    </tr>\n",
       "</table>"
      ],
      "text/plain": [
       "[(1012, 1012)]"
      ]
     },
     "execution_count": 7,
     "metadata": {},
     "output_type": "execute_result"
    }
   ],
   "source": [
    "%%sql\n",
    "SELECT COUNT(*) as NumRecs, COUNT(distinct SSN) as NumSSNs\n",
    "FROM FlatUIv;"
   ]
  },
  {
   "cell_type": "markdown",
   "id": "61798655",
   "metadata": {},
   "source": [
    "### Automating the code\n",
    "\n",
    "The code presented above has been written manually for demonstration purposes. However, many of the measures we have created are quarterly measures that are coded the same way for each time snapshot, and you may want to follow longer-term employment trends for people over many years. To create one quarterly measure for a 3-year follow-up period, for example, would have us typing 36 lines of logic and summation code. This section demonstrates how to generate and run automated SQL queries and creates calendar quarterly measures dynamically. \n",
    "\n",
    "This type of SQL coding is known as **Dynamic SQL**.  The result of our coding will be a query that can be run (or executed). So, we are not looking to generate SQL result sets below, rather we are generating SQL query code. \n",
    "\n",
    "##### Note about Dynamic SQL: \n",
    "*Jupyter Notebooks, the file type we are using to share this code, does not support dynamic SQL code. The code below therefore produces errors when it is executed here. To use this code, you should copy and paste it into your respective SQL Server software.*\n",
    "\n",
    "Review the Create View code above that created 4 quarters of earning and employment measures in 2017 but suppose you wanted all the quarters in 2017 and 2018? Notice that all the lines above are similar but\n",
    "\n",
    "1.\tThe value that the WHEN clause test changes for every quarter: '2017Q1'\n",
    "2.\tThe name of measure being created changes for every quarter: EARN2017Q1, EMP2017Q1\n",
    "\n",
    "Below, the distinct quarter values will be stored in a variable to drive the creation of our SQL query. By using this iterative variable, the only thing that changes in each line is value of the quarter. The value of the quarter is tested in the WHEN clause and is suffixed at the end of the column names."
   ]
  },
  {
   "cell_type": "code",
   "execution_count": null,
   "id": "8fbff68d",
   "metadata": {},
   "outputs": [],
   "source": [
    "%%sql\n",
    "/* automation code */\n",
    "DECLARE @QTR TABLE (QTR VARCHAR(6));-- create a temporary table variable\n",
    "\n",
    "INSERT INTO @QTR (QTR)\n",
    "SELECT DISTINCT YR_QTR FROM dbo.UIQuarterlyMeasuresV\n",
    "where EarnQTR <= '20181231';  -- Store the quarter values of interest in the table variables. Here we are selecting all quarters in 2018 and earlier\n",
    "\n",
    "DECLARE @CMD NVARCHAR(MAX); -- create a temporary variable to store our automated sql code\n",
    "\n",
    "SELECT @CMD = \n",
    "'SELECT SSN,'; -- store the start of the query code\n",
    "SELECT @CMD=@CMD + ' \n",
    "SUM(CASE YR_QTR WHEN ''' + QTR + ''' THEN QTR_Earnings END) AS EARN'+QTR+ ' ,'+'\n",
    "SUM(CASE YR_QTR WHEN ''' + QTR + ''' THEN QTR_Employed END) AS EMP'+QTR+ ' ,'\n",
    "FROM @QTR; -- append each quarterly code to the query code\n",
    "\n",
    "SELECT @CMD=SUBSTRING(@CMD,1,LEN(@CMD)-1); -- remove the , at the end of the last quarter line\n",
    "\n",
    "SELECT @CMD=@CMD+'\n",
    "FROM dbo.UIQuarterlyMeasuresV\n",
    "GROUP BY SSN;'; -- append the end of the query code\n",
    "\n",
    "PRINT @CMD; -- print the query code we generated\n",
    "EXEC sp_executesql @CMD; -- execute the code we generated\n"
   ]
  },
  {
   "cell_type": "markdown",
   "id": "2435eaee",
   "metadata": {},
   "source": [
    "#### The dynamic SQL coding above generated and executed the SQL Query code below:"
   ]
  },
  {
   "cell_type": "code",
   "execution_count": null,
   "id": "8b068249",
   "metadata": {},
   "outputs": [],
   "source": [
    "SELECT SSN, \n",
    "SUM(CASE YR_QTR WHEN '2017Q1' THEN QTR_Earnings END) AS EARN2017Q1 ,\n",
    "SUM(CASE YR_QTR WHEN '2017Q1' THEN QTR_Employed END) AS EMP2017Q1 , \n",
    "SUM(CASE YR_QTR WHEN '2017Q2' THEN QTR_Earnings END) AS EARN2017Q2 ,\n",
    "SUM(CASE YR_QTR WHEN '2017Q2' THEN QTR_Employed END) AS EMP2017Q2 , \n",
    "SUM(CASE YR_QTR WHEN '2017Q3' THEN QTR_Earnings END) AS EARN2017Q3 ,\n",
    "SUM(CASE YR_QTR WHEN '2017Q3' THEN QTR_Employed END) AS EMP2017Q3 , \n",
    "SUM(CASE YR_QTR WHEN '2017Q4' THEN QTR_Earnings END) AS EARN2017Q4 ,\n",
    "SUM(CASE YR_QTR WHEN '2017Q4' THEN QTR_Employed END) AS EMP2017Q4 , \n",
    "SUM(CASE YR_QTR WHEN '2018Q1' THEN QTR_Earnings END) AS EARN2018Q1 ,\n",
    "SUM(CASE YR_QTR WHEN '2018Q1' THEN QTR_Employed END) AS EMP2018Q1 , \n",
    "SUM(CASE YR_QTR WHEN '2018Q2' THEN QTR_Earnings END) AS EARN2018Q2 ,\n",
    "SUM(CASE YR_QTR WHEN '2018Q2' THEN QTR_Employed END) AS EMP2018Q2 , \n",
    "SUM(CASE YR_QTR WHEN '2018Q3' THEN QTR_Earnings END) AS EARN2018Q3 ,\n",
    "SUM(CASE YR_QTR WHEN '2018Q3' THEN QTR_Employed END) AS EMP2018Q3 , \n",
    "SUM(CASE YR_QTR WHEN '2018Q4' THEN QTR_Earnings END) AS EARN2018Q4 ,\n",
    "SUM(CASE YR_QTR WHEN '2018Q4' THEN QTR_Employed END) AS EMP2018Q4 \n",
    "FROM dbo.UIQuarterlyMeasuresV\n",
    "GROUP BY SSN;"
   ]
  }
 ],
 "metadata": {
  "kernelspec": {
   "display_name": "Python 3.6.5",
   "language": "python",
   "name": "py3.6.5"
  },
  "language_info": {
   "codemirror_mode": {
    "name": "ipython",
    "version": 3
   },
   "file_extension": ".py",
   "mimetype": "text/x-python",
   "name": "python",
   "nbconvert_exporter": "python",
   "pygments_lexer": "ipython3",
   "version": "3.6.5"
  }
 },
 "nbformat": 4,
 "nbformat_minor": 5
}
